{
 "cells": [
  {
   "cell_type": "code",
   "execution_count": 32,
   "metadata": {},
   "outputs": [],
   "source": [
    "import os\n",
    "import cv2\n",
    "\n",
    "if not os.path.exists('fingers/0'):\n",
    "    os.makedirs('fingers/0')\n",
    "if not os.path.exists('fingers/1'):\n",
    "    os.makedirs('fingers/1')\n",
    "if not os.path.exists('fingers/2'):\n",
    "    os.makedirs('fingers/2')\n",
    "if not os.path.exists('fingers/3'):\n",
    "    os.makedirs('fingers/3')\n",
    "if not os.path.exists('fingers/4'):\n",
    "    os.makedirs('fingers/4')\n",
    "if not os.path.exists('fingers/5'):\n",
    "    os.makedirs('fingers/5')\n",
    "\n",
    "num_0 = 0\n",
    "num_1 = 0\n",
    "num_2 = 0\n",
    "num_3 = 0\n",
    "num_4 = 0\n",
    "num_5 = 0\n",
    "\n",
    "for filename in os.listdir('fingers/train'):\n",
    "    if filename.endswith(\".png\"):\n",
    "        img =  cv2.imread('fingers/train/'+ filename)\n",
    "        ret,img = cv2.threshold(img,127,255,cv2.THRESH_BINARY)\n",
    "        img = cv2.resize(img,(100,100))\n",
    "        name = filename.split('_')[1]\n",
    "#         print(name)\n",
    "        if name[0] == '0':\n",
    "            cv2.imwrite('fingers/0/'+str(num_0)+'_'+name,img)\n",
    "            num_0 = num_0 + 1\n",
    "        elif name[0] == '1':\n",
    "            cv2.imwrite('fingers/1/'+str(num_1)+'_'+name,img)\n",
    "            num_1 = num_1 + 1\n",
    "        elif name[0] == '2':\n",
    "            cv2.imwrite('fingers/2/'+str(num_2)+'_'+name,img)\n",
    "            num_2 = num_2 + 1\n",
    "        elif name[0] == '3':\n",
    "            cv2.imwrite('fingers/3/'+str(num_3)+'_'+name,img)\n",
    "            num_3 = num_3 + 1\n",
    "        elif name[0] == '4':\n",
    "            cv2.imwrite('fingers/4/'+str(num_4)+'_'+name,img)\n",
    "            num_4 = num_4 + 1\n",
    "        elif name[0] == '5':\n",
    "            cv2.imwrite('fingers/5/'+str(num_5)+'_'+name,img)\n",
    "            num_5 = num_5 + 1\n",
    "            "
   ]
  },
  {
   "cell_type": "code",
   "execution_count": 10,
   "metadata": {},
   "outputs": [],
   "source": [
    "if not os.path.exists('fingers/validate/0'):\n",
    "    os.makedirs('fingers/validate/0')\n",
    "if not os.path.exists('fingers/validate/1'):\n",
    "    os.makedirs('fingers/validate/1')\n",
    "if not os.path.exists('fingers/validate/2'):\n",
    "    os.makedirs('fingers/validate/2')\n",
    "if not os.path.exists('fingers/validate/3'):\n",
    "    os.makedirs('fingers/validate/3')\n",
    "if not os.path.exists('fingers/validate/4'):\n",
    "    os.makedirs('fingers/validate/4')\n",
    "if not os.path.exists('fingers/validate/5'):\n",
    "    os.makedirs('fingers/validate/5')"
   ]
  },
  {
   "cell_type": "code",
   "execution_count": 21,
   "metadata": {},
   "outputs": [],
   "source": [
    "import cv2\n",
    "img = cv2.imread('fingers/train/000cac8e-fcf0-4f8c-bd16-c257d1e6d7a8_2L.png',0)\n",
    "while(True):\n",
    "    ret,thresh1 = cv2.threshold(img,127,255,cv2.THRESH_BINARY)\n",
    "#     ret2,th2 = cv2.threshold(img,0,255,cv2.THRESH_BINARY+cv2.THRESH_OTSU)\n",
    "    cv2.imshow('img',img)\n",
    "    cv2.imshow('thresh1',thresh1)    \n",
    "#     cv2.imshow('thresh2',th2)\n",
    "    img2 = cv2.resize(thresh1,(100,100))\n",
    "    cv2.imshow('img2',img2)\n",
    "    \n",
    "    if (cv2.waitKey(1) & 0xFF == ord('q')):\n",
    "        break    \n",
    "cv2.destroyAllWindows()"
   ]
  },
  {
   "cell_type": "markdown",
   "metadata": {},
   "source": [
    "# Model"
   ]
  },
  {
   "cell_type": "code",
   "execution_count": 2,
   "metadata": {},
   "outputs": [
    {
     "name": "stdout",
     "output_type": "stream",
     "text": [
      "0\n",
      "1\n",
      "2\n",
      "3\n",
      "4\n",
      "5\n"
     ]
    }
   ],
   "source": [
    "import cv2\n",
    "import numpy as np\n",
    "import os\n",
    "y_train = np.empty([0,6])\n",
    "x_train = np.empty([0,100,100,3])\n",
    "for folder in os.listdir('fingers/train_pre'):\n",
    "    print(folder)\n",
    "    for filename in os.listdir('fingers/train_pre/'+folder):\n",
    "#         print(filename)\n",
    "        if filename.endswith(\".png\"):\n",
    "            img = cv2.imread('fingers/train_pre/'+folder+'/'+filename,0)\n",
    "#             print(img.shape)\n",
    "            np.concatenate((y_train,folder), axis=None)\n",
    "            np.concatenate((x_train,img), axis=None)"
   ]
  },
  {
   "cell_type": "code",
   "execution_count": 3,
   "metadata": {},
   "outputs": [
    {
     "name": "stdout",
     "output_type": "stream",
     "text": [
      "(0, 6)\n",
      "(0, 100, 100, 3)\n"
     ]
    }
   ],
   "source": [
    "print(y_train.shape)\n",
    "print(x_train.shape)"
   ]
  },
  {
   "cell_type": "code",
   "execution_count": 1,
   "metadata": {},
   "outputs": [
    {
     "name": "stderr",
     "output_type": "stream",
     "text": [
      "Using TensorFlow backend.\n"
     ]
    },
    {
     "name": "stdout",
     "output_type": "stream",
     "text": [
      "Found 7200 images belonging to 3 classes.\n",
      "Found 1800 images belonging to 3 classes.\n",
      "Found 1800 images belonging to 3 classes.\n"
     ]
    }
   ],
   "source": [
    "from keras.preprocessing.image import ImageDataGenerator\n",
    "\n",
    "datagen = ImageDataGenerator(\n",
    "        rescale=1./255,\n",
    "        shear_range=0.5,rotation_range = 90,\n",
    "        zoom_range=0.2,\n",
    "        horizontal_flip=True,width_shift_range = 0.3,height_shift_range = 0.3)\n",
    "\n",
    "train_generator = datagen.flow_from_directory(\n",
    "        'drawcontour/train',\n",
    "        target_size=(100, 100),shuffle=True,\n",
    "        batch_size=32,color_mode='rgb',\n",
    "        class_mode='categorical')\n",
    "\n",
    "test_generator = datagen.flow_from_directory(\n",
    "        'drawcontour/test',\n",
    "        target_size=(100, 100),shuffle=True,\n",
    "        batch_size=32,color_mode='rgb',\n",
    "        class_mode='categorical')\n",
    "\n",
    "validation_generator = datagen.flow_from_directory(\n",
    "        'drawcontour/val',\n",
    "        target_size=(100, 100),shuffle=True,\n",
    "        batch_size=32,color_mode='rgb',\n",
    "        class_mode='categorical')"
   ]
  },
  {
   "cell_type": "code",
   "execution_count": 2,
   "metadata": {},
   "outputs": [
    {
     "name": "stdout",
     "output_type": "stream",
     "text": [
      "{'hammer': 0, 'paper': 1, 'scissor': 2}\n",
      "{'hammer': 0, 'paper': 1, 'scissor': 2}\n",
      "{'hammer': 0, 'paper': 1, 'scissor': 2}\n"
     ]
    }
   ],
   "source": [
    "print(train_generator.class_indices)\n",
    "print(test_generator.class_indices)\n",
    "print(validation_generator.class_indices)"
   ]
  },
  {
   "cell_type": "code",
   "execution_count": 3,
   "metadata": {},
   "outputs": [
    {
     "name": "stdout",
     "output_type": "stream",
     "text": [
      "WARNING:tensorflow:From D:\\Programfile\\Anaconda\\envs\\bam\\lib\\site-packages\\tensorflow\\python\\framework\\op_def_library.py:263: colocate_with (from tensorflow.python.framework.ops) is deprecated and will be removed in a future version.\n",
      "Instructions for updating:\n",
      "Colocations handled automatically by placer.\n",
      "WARNING:tensorflow:From D:\\Programfile\\Anaconda\\envs\\bam\\lib\\site-packages\\keras\\backend\\tensorflow_backend.py:3445: calling dropout (from tensorflow.python.ops.nn_ops) with keep_prob is deprecated and will be removed in a future version.\n",
      "Instructions for updating:\n",
      "Please use `rate` instead of `keep_prob`. Rate should be set to `rate = 1 - keep_prob`.\n"
     ]
    }
   ],
   "source": [
    "from keras.models import Sequential\n",
    "from keras.layers import Conv2D, MaxPooling2D\n",
    "from keras.layers import Activation, Dropout, Flatten, Dense ,BatchNormalization\n",
    "\n",
    "model = Sequential()\n",
    "model.add(Conv2D(32, (3, 3), input_shape=(100, 100, 3)))\n",
    "model.add(Activation('relu'))\n",
    "model.add(MaxPooling2D(pool_size=(3, 3)))\n",
    "\n",
    "model.add(Dropout(0.5))\n",
    "\n",
    "model.add(Conv2D(64, (3, 3)))\n",
    "model.add(Activation('relu'))\n",
    "model.add(MaxPooling2D(pool_size=(3, 3)))\n",
    "\n",
    "# model.add(Dropout(0.5))\n",
    "\n",
    "# model.add(Conv2D(128, (3, 3)))\n",
    "# model.add(Activation('relu'))\n",
    "# model.add(MaxPooling2D(pool_size=(3, 3)))\n",
    "\n",
    "model.add(BatchNormalization())\n",
    "model.add(Flatten())\n",
    "\n",
    "model.add(Dense(3,activation='softmax'))\n"
   ]
  },
  {
   "cell_type": "code",
   "execution_count": 4,
   "metadata": {},
   "outputs": [
    {
     "name": "stdout",
     "output_type": "stream",
     "text": [
      "_________________________________________________________________\n",
      "Layer (type)                 Output Shape              Param #   \n",
      "=================================================================\n",
      "conv2d_1 (Conv2D)            (None, 98, 98, 32)        896       \n",
      "_________________________________________________________________\n",
      "activation_1 (Activation)    (None, 98, 98, 32)        0         \n",
      "_________________________________________________________________\n",
      "max_pooling2d_1 (MaxPooling2 (None, 32, 32, 32)        0         \n",
      "_________________________________________________________________\n",
      "dropout_1 (Dropout)          (None, 32, 32, 32)        0         \n",
      "_________________________________________________________________\n",
      "conv2d_2 (Conv2D)            (None, 30, 30, 64)        18496     \n",
      "_________________________________________________________________\n",
      "activation_2 (Activation)    (None, 30, 30, 64)        0         \n",
      "_________________________________________________________________\n",
      "max_pooling2d_2 (MaxPooling2 (None, 10, 10, 64)        0         \n",
      "_________________________________________________________________\n",
      "batch_normalization_1 (Batch (None, 10, 10, 64)        256       \n",
      "_________________________________________________________________\n",
      "flatten_1 (Flatten)          (None, 6400)              0         \n",
      "_________________________________________________________________\n",
      "dense_1 (Dense)              (None, 3)                 19203     \n",
      "=================================================================\n",
      "Total params: 38,851\n",
      "Trainable params: 38,723\n",
      "Non-trainable params: 128\n",
      "_________________________________________________________________\n"
     ]
    }
   ],
   "source": [
    "model.summary()"
   ]
  },
  {
   "cell_type": "code",
   "execution_count": 5,
   "metadata": {},
   "outputs": [],
   "source": [
    "from keras.optimizers import SGD\n",
    "sgd = SGD(lr=0.01, decay=1e-6, momentum=0.9, nesterov=True)\n",
    "model.compile(loss='categorical_crossentropy', optimizer=sgd,metrics=['accuracy'])"
   ]
  },
  {
   "cell_type": "code",
   "execution_count": 6,
   "metadata": {},
   "outputs": [],
   "source": [
    "from keras.optimizers import Adam\n",
    "adam = Adam(lr=0.01, beta_1=0.9, beta_2=0.999, epsilon=None, decay=0.0, amsgrad=False)\n",
    "model.compile(loss='categorical_crossentropy', optimizer=adam,metrics=['accuracy'])"
   ]
  },
  {
   "cell_type": "code",
   "execution_count": 7,
   "metadata": {
    "scrolled": true
   },
   "outputs": [
    {
     "name": "stdout",
     "output_type": "stream",
     "text": [
      "WARNING:tensorflow:From D:\\Programfile\\Anaconda\\envs\\bam\\lib\\site-packages\\tensorflow\\python\\ops\\math_ops.py:3066: to_int32 (from tensorflow.python.ops.math_ops) is deprecated and will be removed in a future version.\n",
      "Instructions for updating:\n",
      "Use tf.cast instead.\n",
      "Epoch 1/10\n",
      "2000/2000 [==============================] - 290s 145ms/step - loss: 0.3604 - acc: 0.8840 - val_loss: 2.3803 - val_acc: 0.4507\n",
      "Epoch 2/10\n",
      "2000/2000 [==============================] - 268s 134ms/step - loss: 0.2240 - acc: 0.9330 - val_loss: 0.8711 - val_acc: 0.7710\n",
      "Epoch 3/10\n",
      "2000/2000 [==============================] - 262s 131ms/step - loss: 0.1840 - acc: 0.9469 - val_loss: 0.0659 - val_acc: 0.9793\n",
      "Epoch 4/10\n",
      "2000/2000 [==============================] - 262s 131ms/step - loss: 0.2002 - acc: 0.9498 - val_loss: 0.2112 - val_acc: 0.9342\n",
      "Epoch 5/10\n",
      "2000/2000 [==============================] - 266s 133ms/step - loss: 0.2025 - acc: 0.9525 - val_loss: 1.2719 - val_acc: 0.8321\n",
      "Epoch 6/10\n",
      "2000/2000 [==============================] - 265s 132ms/step - loss: 0.1947 - acc: 0.9570 - val_loss: 0.1719 - val_acc: 0.9569\n",
      "Epoch 7/10\n",
      "2000/2000 [==============================] - 264s 132ms/step - loss: 0.2331 - acc: 0.9552 - val_loss: 0.1793 - val_acc: 0.9611\n",
      "Epoch 8/10\n",
      "2000/2000 [==============================] - 258s 129ms/step - loss: 0.2414 - acc: 0.9590 - val_loss: 0.2067 - val_acc: 0.9553\n",
      "Epoch 9/10\n",
      "2000/2000 [==============================] - 254s 127ms/step - loss: 0.2595 - acc: 0.9600 - val_loss: 0.2754 - val_acc: 0.9564\n",
      "Epoch 10/10\n",
      "2000/2000 [==============================] - 192s 96ms/step - loss: 0.2603 - acc: 0.9622 - val_loss: 3.1547 - val_acc: 0.6505\n"
     ]
    }
   ],
   "source": [
    "model.fit_generator(\n",
    "        train_generator,\n",
    "        steps_per_epoch=2000,\n",
    "        epochs=10,\n",
    "        validation_data=validation_generator,\n",
    "        validation_steps=300)\n",
    "model.save('fucking_model3.h5') "
   ]
  },
  {
   "cell_type": "code",
   "execution_count": 41,
   "metadata": {},
   "outputs": [
    {
     "name": "stdout",
     "output_type": "stream",
     "text": [
      "Confusion Matrix\n",
      "[[221 192 187]\n",
      " [200 215 185]\n",
      " [209 219 172]]\n",
      "Classification Report\n",
      "             precision    recall  f1-score   support\n",
      "\n",
      "     hammer       0.35      0.37      0.36       600\n",
      "      paper       0.34      0.36      0.35       600\n",
      "    scissor       0.32      0.29      0.30       600\n",
      "\n",
      "avg / total       0.34      0.34      0.34      1800\n",
      "\n"
     ]
    }
   ],
   "source": [
    "import numpy as np\n",
    "from sklearn.metrics import classification_report, confusion_matrix\n",
    "Y_pred = model.predict_generator(validation_generator)\n",
    "y_pred = np.argmax(Y_pred, axis=1)\n",
    "print('Confusion Matrix')\n",
    "print(confusion_matrix(validation_generator.classes, y_pred))\n",
    "print('Classification Report')\n",
    "target_names = ['hammer', 'paper', 'scissor']\n",
    "print(classification_report(validation_generator.classes, y_pred, target_names=target_names))"
   ]
  },
  {
   "cell_type": "code",
   "execution_count": 42,
   "metadata": {},
   "outputs": [
    {
     "name": "stdout",
     "output_type": "stream",
     "text": [
      "[0.20960312824641328, 0.96]\n"
     ]
    }
   ],
   "source": [
    "#model3 fucking_model3.h5 (100,100) drawcontour rotate\n",
    "scores3 = model.evaluate_generator(test_generator)\n",
    "print(scores3)"
   ]
  },
  {
   "cell_type": "code",
   "execution_count": null,
   "metadata": {},
   "outputs": [],
   "source": [
    "# ---------------------------------------------------------------------------------------------------"
   ]
  },
  {
   "cell_type": "code",
   "execution_count": 1,
   "metadata": {},
   "outputs": [
    {
     "name": "stderr",
     "output_type": "stream",
     "text": [
      "C:\\Users\\WIN10\\Anaconda3\\envs\\conda1\\lib\\site-packages\\h5py\\__init__.py:36: FutureWarning: Conversion of the second argument of issubdtype from `float` to `np.floating` is deprecated. In future, it will be treated as `np.float64 == np.dtype(float).type`.\n",
      "  from ._conv import register_converters as _register_converters\n",
      "Using TensorFlow backend.\n"
     ]
    }
   ],
   "source": [
    "from keras.models import Sequential\n",
    "from keras.layers import Conv2D, MaxPooling2D\n",
    "from keras.layers import Activation, Dropout, Flatten, Dense\n",
    "\n",
    "model = Sequential()\n",
    "model.add(Conv2D(128, (3, 3), input_shape=(100, 100, 1)))\n",
    "model.add(Activation('relu'))\n",
    "model.add(MaxPooling2D(pool_size=(2, 2)))\n",
    "\n",
    "model.add(Dropout(0.5))\n",
    "\n",
    "model.add(Conv2D(32, (3, 3)))\n",
    "model.add(Activation('relu'))\n",
    "model.add(MaxPooling2D(pool_size=(2, 2)))\n",
    "\n",
    "model.add(Flatten())\n",
    "\n",
    "model.add(Dense(6,activation='softmax'))"
   ]
  },
  {
   "cell_type": "code",
   "execution_count": 2,
   "metadata": {},
   "outputs": [],
   "source": [
    "from keras.optimizers import SGD\n",
    "sgd = SGD(lr=0.01, decay=1e-6, momentum=0.9, nesterov=True)\n",
    "model.compile(loss='categorical_crossentropy', optimizer=sgd,metrics=['accuracy'])"
   ]
  },
  {
   "cell_type": "code",
   "execution_count": 3,
   "metadata": {},
   "outputs": [
    {
     "name": "stdout",
     "output_type": "stream",
     "text": [
      "_________________________________________________________________\n",
      "Layer (type)                 Output Shape              Param #   \n",
      "=================================================================\n",
      "conv2d_1 (Conv2D)            (None, 98, 98, 128)       1280      \n",
      "_________________________________________________________________\n",
      "activation_1 (Activation)    (None, 98, 98, 128)       0         \n",
      "_________________________________________________________________\n",
      "max_pooling2d_1 (MaxPooling2 (None, 49, 49, 128)       0         \n",
      "_________________________________________________________________\n",
      "dropout_1 (Dropout)          (None, 49, 49, 128)       0         \n",
      "_________________________________________________________________\n",
      "conv2d_2 (Conv2D)            (None, 47, 47, 32)        36896     \n",
      "_________________________________________________________________\n",
      "activation_2 (Activation)    (None, 47, 47, 32)        0         \n",
      "_________________________________________________________________\n",
      "max_pooling2d_2 (MaxPooling2 (None, 23, 23, 32)        0         \n",
      "_________________________________________________________________\n",
      "flatten_1 (Flatten)          (None, 16928)             0         \n",
      "_________________________________________________________________\n",
      "dense_1 (Dense)              (None, 6)                 101574    \n",
      "=================================================================\n",
      "Total params: 139,750\n",
      "Trainable params: 139,750\n",
      "Non-trainable params: 0\n",
      "_________________________________________________________________\n"
     ]
    }
   ],
   "source": [
    "model.summary()"
   ]
  },
  {
   "cell_type": "code",
   "execution_count": 5,
   "metadata": {},
   "outputs": [],
   "source": [
    "model.load_weights('first_try.h5') "
   ]
  },
  {
   "cell_type": "code",
   "execution_count": 6,
   "metadata": {},
   "outputs": [],
   "source": [
    "model.save('first_try.h5')"
   ]
  },
  {
   "cell_type": "code",
   "execution_count": null,
   "metadata": {},
   "outputs": [],
   "source": []
  }
 ],
 "metadata": {
  "kernelspec": {
   "display_name": "Python 3",
   "language": "python",
   "name": "python3"
  },
  "language_info": {
   "codemirror_mode": {
    "name": "ipython",
    "version": 3
   },
   "file_extension": ".py",
   "mimetype": "text/x-python",
   "name": "python",
   "nbconvert_exporter": "python",
   "pygments_lexer": "ipython3",
   "version": "3.7.3"
  }
 },
 "nbformat": 4,
 "nbformat_minor": 2
}
