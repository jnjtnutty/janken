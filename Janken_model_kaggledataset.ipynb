{
 "cells": [
  {
   "cell_type": "code",
   "execution_count": 32,
   "metadata": {},
   "outputs": [],
   "source": [
    "import os\n",
    "import cv2\n",
    "\n",
    "if not os.path.exists('fingers/0'):\n",
    "    os.makedirs('fingers/0')\n",
    "if not os.path.exists('fingers/1'):\n",
    "    os.makedirs('fingers/1')\n",
    "if not os.path.exists('fingers/2'):\n",
    "    os.makedirs('fingers/2')\n",
    "if not os.path.exists('fingers/3'):\n",
    "    os.makedirs('fingers/3')\n",
    "if not os.path.exists('fingers/4'):\n",
    "    os.makedirs('fingers/4')\n",
    "if not os.path.exists('fingers/5'):\n",
    "    os.makedirs('fingers/5')\n",
    "\n",
    "num_0 = 0\n",
    "num_1 = 0\n",
    "num_2 = 0\n",
    "num_3 = 0\n",
    "num_4 = 0\n",
    "num_5 = 0\n",
    "\n",
    "for filename in os.listdir('fingers/train'):\n",
    "    if filename.endswith(\".png\"):\n",
    "        img =  cv2.imread('fingers/train/'+ filename)\n",
    "        ret,img = cv2.threshold(img,127,255,cv2.THRESH_BINARY)\n",
    "        img = cv2.resize(img,(100,100))\n",
    "        name = filename.split('_')[1]\n",
    "#         print(name)\n",
    "        if name[0] == '0':\n",
    "            cv2.imwrite('fingers/0/'+str(num_0)+'_'+name,img)\n",
    "            num_0 = num_0 + 1\n",
    "        elif name[0] == '1':\n",
    "            cv2.imwrite('fingers/1/'+str(num_1)+'_'+name,img)\n",
    "            num_1 = num_1 + 1\n",
    "        elif name[0] == '2':\n",
    "            cv2.imwrite('fingers/2/'+str(num_2)+'_'+name,img)\n",
    "            num_2 = num_2 + 1\n",
    "        elif name[0] == '3':\n",
    "            cv2.imwrite('fingers/3/'+str(num_3)+'_'+name,img)\n",
    "            num_3 = num_3 + 1\n",
    "        elif name[0] == '4':\n",
    "            cv2.imwrite('fingers/4/'+str(num_4)+'_'+name,img)\n",
    "            num_4 = num_4 + 1\n",
    "        elif name[0] == '5':\n",
    "            cv2.imwrite('fingers/5/'+str(num_5)+'_'+name,img)\n",
    "            num_5 = num_5 + 1\n",
    "            "
   ]
  },
  {
   "cell_type": "code",
   "execution_count": 10,
   "metadata": {},
   "outputs": [],
   "source": [
    "if not os.path.exists('fingers/validate/0'):\n",
    "    os.makedirs('fingers/validate/0')\n",
    "if not os.path.exists('fingers/validate/1'):\n",
    "    os.makedirs('fingers/validate/1')\n",
    "if not os.path.exists('fingers/validate/2'):\n",
    "    os.makedirs('fingers/validate/2')\n",
    "if not os.path.exists('fingers/validate/3'):\n",
    "    os.makedirs('fingers/validate/3')\n",
    "if not os.path.exists('fingers/validate/4'):\n",
    "    os.makedirs('fingers/validate/4')\n",
    "if not os.path.exists('fingers/validate/5'):\n",
    "    os.makedirs('fingers/validate/5')"
   ]
  },
  {
   "cell_type": "code",
   "execution_count": 21,
   "metadata": {},
   "outputs": [],
   "source": [
    "import cv2\n",
    "img = cv2.imread('fingers/train/000cac8e-fcf0-4f8c-bd16-c257d1e6d7a8_2L.png',0)\n",
    "while(True):\n",
    "    ret,thresh1 = cv2.threshold(img,127,255,cv2.THRESH_BINARY)\n",
    "#     ret2,th2 = cv2.threshold(img,0,255,cv2.THRESH_BINARY+cv2.THRESH_OTSU)\n",
    "    cv2.imshow('img',img)\n",
    "    cv2.imshow('thresh1',thresh1)    \n",
    "#     cv2.imshow('thresh2',th2)\n",
    "    img2 = cv2.resize(thresh1,(100,100))\n",
    "    cv2.imshow('img2',img2)\n",
    "    \n",
    "    if (cv2.waitKey(1) & 0xFF == ord('q')):\n",
    "        break    \n",
    "cv2.destroyAllWindows()"
   ]
  },
  {
   "cell_type": "markdown",
   "metadata": {},
   "source": [
    "# Model"
   ]
  },
  {
   "cell_type": "code",
   "execution_count": 2,
   "metadata": {},
   "outputs": [
    {
     "name": "stdout",
     "output_type": "stream",
     "text": [
      "0\n",
      "1\n",
      "2\n",
      "3\n",
      "4\n",
      "5\n"
     ]
    }
   ],
   "source": [
    "import cv2\n",
    "import numpy as np\n",
    "import os\n",
    "y_train = np.empty([0,6])\n",
    "x_train = np.empty([0,100,100,3])\n",
    "for folder in os.listdir('fingers/train_pre'):\n",
    "    print(folder)\n",
    "    for filename in os.listdir('fingers/train_pre/'+folder):\n",
    "#         print(filename)\n",
    "        if filename.endswith(\".png\"):\n",
    "            img = cv2.imread('fingers/train_pre/'+folder+'/'+filename,0)\n",
    "#             print(img.shape)\n",
    "            np.concatenate((y_train,folder), axis=None)\n",
    "            np.concatenate((x_train,img), axis=None)"
   ]
  },
  {
   "cell_type": "code",
   "execution_count": 3,
   "metadata": {},
   "outputs": [
    {
     "name": "stdout",
     "output_type": "stream",
     "text": [
      "(0, 6)\n",
      "(0, 100, 100, 3)\n"
     ]
    }
   ],
   "source": [
    "print(y_train.shape)\n",
    "print(x_train.shape)"
   ]
  },
  {
   "cell_type": "code",
   "execution_count": 1,
   "metadata": {},
   "outputs": [
    {
     "name": "stderr",
     "output_type": "stream",
     "text": [
      "Using TensorFlow backend.\n"
     ]
    },
    {
     "name": "stdout",
     "output_type": "stream",
     "text": [
      "Found 7200 images belonging to 3 classes.\n",
      "Found 1800 images belonging to 3 classes.\n",
      "Found 1800 images belonging to 3 classes.\n"
     ]
    }
   ],
   "source": [
    "from keras.preprocessing.image import ImageDataGenerator\n",
    "\n",
    "datagen = ImageDataGenerator(\n",
    "        rescale=1./255,\n",
    "        shear_range=0.5,rotation_range = 90,\n",
    "        zoom_range=0.2,\n",
    "        horizontal_flip=True,width_shift_range = 0.3,height_shift_range = 0.3)\n",
    "\n",
    "train_generator = datagen.flow_from_directory(\n",
    "        'drawcontour/train',\n",
    "        target_size=(100, 100),shuffle=True,\n",
    "        batch_size=32,color_mode='rgb',\n",
    "        class_mode='categorical')\n",
    "\n",
    "test_generator = datagen.flow_from_directory(\n",
    "        'drawcontour/test',\n",
    "        target_size=(100, 100),shuffle=True,\n",
    "        batch_size=32,color_mode='rgb',\n",
    "        class_mode='categorical')\n",
    "\n",
    "validation_generator = datagen.flow_from_directory(\n",
    "        'drawcontour/val',\n",
    "        target_size=(100, 100),shuffle=True,\n",
    "        batch_size=32,color_mode='rgb',\n",
    "        class_mode='categorical')"
   ]
  },
  {
   "cell_type": "code",
   "execution_count": 2,
   "metadata": {},
   "outputs": [
    {
     "name": "stdout",
     "output_type": "stream",
     "text": [
      "{'hammer': 0, 'paper': 1, 'scissor': 2}\n",
      "{'hammer': 0, 'paper': 1, 'scissor': 2}\n",
      "{'hammer': 0, 'paper': 1, 'scissor': 2}\n"
     ]
    }
   ],
   "source": [
    "print(train_generator.class_indices)\n",
    "print(test_generator.class_indices)\n",
    "print(validation_generator.class_indices)"
   ]
  },
  {
   "cell_type": "code",
   "execution_count": 3,
   "metadata": {},
   "outputs": [
    {
     "name": "stdout",
     "output_type": "stream",
     "text": [
      "WARNING:tensorflow:From D:\\Programfile\\Anaconda\\envs\\bam\\lib\\site-packages\\tensorflow\\python\\framework\\op_def_library.py:263: colocate_with (from tensorflow.python.framework.ops) is deprecated and will be removed in a future version.\n",
      "Instructions for updating:\n",
      "Colocations handled automatically by placer.\n",
      "WARNING:tensorflow:From D:\\Programfile\\Anaconda\\envs\\bam\\lib\\site-packages\\keras\\backend\\tensorflow_backend.py:3445: calling dropout (from tensorflow.python.ops.nn_ops) with keep_prob is deprecated and will be removed in a future version.\n",
      "Instructions for updating:\n",
      "Please use `rate` instead of `keep_prob`. Rate should be set to `rate = 1 - keep_prob`.\n"
     ]
    }
   ],
   "source": [
    "from keras.models import Sequential\n",
    "from keras.layers import Conv2D, MaxPooling2D\n",
    "from keras.layers import Activation, Dropout, Flatten, Dense ,BatchNormalization\n",
    "\n",
    "model = Sequential()\n",
    "model.add(Conv2D(32, (3, 3), input_shape=(100, 100, 3)))\n",
    "model.add(Activation('relu'))\n",
    "model.add(MaxPooling2D(pool_size=(3, 3)))\n",
    "\n",
    "model.add(Dropout(0.5))\n",
    "\n",
    "model.add(Conv2D(64, (3, 3)))\n",
    "model.add(Activation('relu'))\n",
    "model.add(MaxPooling2D(pool_size=(3, 3)))\n",
    "\n",
    "# model.add(Dropout(0.5))\n",
    "\n",
    "# model.add(Conv2D(128, (3, 3)))\n",
    "# model.add(Activation('relu'))\n",
    "# model.add(MaxPooling2D(pool_size=(3, 3)))\n",
    "\n",
    "model.add(BatchNormalization())\n",
    "model.add(Flatten())\n",
    "\n",
    "model.add(Dense(3,activation='softmax'))\n"
   ]
  },
  {
   "cell_type": "code",
   "execution_count": 4,
   "metadata": {},
   "outputs": [
    {
     "name": "stdout",
     "output_type": "stream",
     "text": [
      "_________________________________________________________________\n",
      "Layer (type)                 Output Shape              Param #   \n",
      "=================================================================\n",
      "conv2d_1 (Conv2D)            (None, 98, 98, 32)        896       \n",
      "_________________________________________________________________\n",
      "activation_1 (Activation)    (None, 98, 98, 32)        0         \n",
      "_________________________________________________________________\n",
      "max_pooling2d_1 (MaxPooling2 (None, 32, 32, 32)        0         \n",
      "_________________________________________________________________\n",
      "dropout_1 (Dropout)          (None, 32, 32, 32)        0         \n",
      "_________________________________________________________________\n",
      "conv2d_2 (Conv2D)            (None, 30, 30, 64)        18496     \n",
      "_________________________________________________________________\n",
      "activation_2 (Activation)    (None, 30, 30, 64)        0         \n",
      "_________________________________________________________________\n",
      "max_pooling2d_2 (MaxPooling2 (None, 10, 10, 64)        0         \n",
      "_________________________________________________________________\n",
      "batch_normalization_1 (Batch (None, 10, 10, 64)        256       \n",
      "_________________________________________________________________\n",
      "flatten_1 (Flatten)          (None, 6400)              0         \n",
      "_________________________________________________________________\n",
      "dense_1 (Dense)              (None, 3)                 19203     \n",
      "=================================================================\n",
      "Total params: 38,851\n",
      "Trainable params: 38,723\n",
      "Non-trainable params: 128\n",
      "_________________________________________________________________\n"
     ]
    }
   ],
   "source": [
    "model.summary()"
   ]
  },
  {
   "cell_type": "code",
   "execution_count": 5,
   "metadata": {},
   "outputs": [],
   "source": [
    "from keras.optimizers import SGD\n",
    "sgd = SGD(lr=0.01, decay=1e-6, momentum=0.9, nesterov=True)\n",
    "model.compile(loss='categorical_crossentropy', optimizer=sgd,metrics=['accuracy'])"
   ]
  },
  {
   "cell_type": "code",
   "execution_count": 6,
   "metadata": {},
   "outputs": [],
   "source": [
    "from keras.optimizers import Adam\n",
    "adam = Adam(lr=0.01, beta_1=0.9, beta_2=0.999, epsilon=None, decay=0.0, amsgrad=False)\n",
    "model.compile(loss='categorical_crossentropy', optimizer=adam,metrics=['accuracy'])"
   ]
  },
  {
   "cell_type": "code",
   "execution_count": 7,
   "metadata": {
    "scrolled": true
   },
   "outputs": [
    {
     "name": "stdout",
     "output_type": "stream",
     "text": [
      "WARNING:tensorflow:From D:\\Programfile\\Anaconda\\envs\\bam\\lib\\site-packages\\tensorflow\\python\\ops\\math_ops.py:3066: to_int32 (from tensorflow.python.ops.math_ops) is deprecated and will be removed in a future version.\n",
      "Instructions for updating:\n",
      "Use tf.cast instead.\n",
      "Epoch 1/10\n",
      "2000/2000 [==============================] - 213s 107ms/step - loss: 0.3214 - acc: 0.8905 - val_loss: 0.1471 - val_acc: 0.9507\n",
      "Epoch 2/10\n",
      "2000/2000 [==============================] - 205s 103ms/step - loss: 0.1963 - acc: 0.9333 - val_loss: 0.3562 - val_acc: 0.8786\n",
      "Epoch 3/10\n",
      "2000/2000 [==============================] - 194s 97ms/step - loss: 0.2041 - acc: 0.9413 - val_loss: 0.0915 - val_acc: 0.9701\n",
      "Epoch 4/10\n",
      "2000/2000 [==============================] - 193s 96ms/step - loss: 0.2006 - acc: 0.9456 - val_loss: 0.1674 - val_acc: 0.9608\n",
      "Epoch 5/10\n",
      "2000/2000 [==============================] - 197s 98ms/step - loss: 0.1910 - acc: 0.9508 - val_loss: 0.4179 - val_acc: 0.8886\n",
      "Epoch 6/10\n",
      "2000/2000 [==============================] - 195s 97ms/step - loss: 0.2142 - acc: 0.9511 - val_loss: 0.4960 - val_acc: 0.8698\n",
      "Epoch 7/10\n",
      "2000/2000 [==============================] - 194s 97ms/step - loss: 0.2221 - acc: 0.9513 - val_loss: 0.1363 - val_acc: 0.9693\n",
      "Epoch 8/10\n",
      "2000/2000 [==============================] - 195s 98ms/step - loss: 0.2192 - acc: 0.9549 - val_loss: 0.0915 - val_acc: 0.9786\n",
      "Epoch 9/10\n",
      "2000/2000 [==============================] - 200s 100ms/step - loss: 0.2098 - acc: 0.9576 - val_loss: 1.5635 - val_acc: 0.8215\n",
      "Epoch 10/10\n",
      "2000/2000 [==============================] - 201s 100ms/step - loss: 0.2128 - acc: 0.9593 - val_loss: 0.3782 - val_acc: 0.9235\n"
     ]
    }
   ],
   "source": [
    "model.fit_generator(\n",
    "        train_generator,\n",
    "        steps_per_epoch=2000,\n",
    "        epochs=10,\n",
    "        validation_data=validation_generator,\n",
    "        validation_steps=300)\n",
    "model.save('./model/_2/fucking_model3.h5') "
   ]
  },
  {
   "cell_type": "code",
   "execution_count": 10,
   "metadata": {},
   "outputs": [
    {
     "ename": "ModuleNotFoundError",
     "evalue": "No module named 'sklearn'",
     "output_type": "error",
     "traceback": [
      "\u001b[1;31m---------------------------------------------------------------------------\u001b[0m",
      "\u001b[1;31mModuleNotFoundError\u001b[0m                       Traceback (most recent call last)",
      "\u001b[1;32m<ipython-input-10-0897784221c1>\u001b[0m in \u001b[0;36m<module>\u001b[1;34m\u001b[0m\n\u001b[0;32m      1\u001b[0m \u001b[1;32mimport\u001b[0m \u001b[0mnumpy\u001b[0m \u001b[1;32mas\u001b[0m \u001b[0mnp\u001b[0m\u001b[1;33m\u001b[0m\u001b[1;33m\u001b[0m\u001b[0m\n\u001b[1;32m----> 2\u001b[1;33m \u001b[1;32mfrom\u001b[0m \u001b[0msklearn\u001b[0m\u001b[1;33m.\u001b[0m\u001b[0mmetrics\u001b[0m \u001b[1;32mimport\u001b[0m \u001b[0mclassification_report\u001b[0m\u001b[1;33m,\u001b[0m \u001b[0mconfusion_matrix\u001b[0m\u001b[1;33m\u001b[0m\u001b[1;33m\u001b[0m\u001b[0m\n\u001b[0m\u001b[0;32m      3\u001b[0m \u001b[0mY_pred\u001b[0m \u001b[1;33m=\u001b[0m \u001b[0mmodel\u001b[0m\u001b[1;33m.\u001b[0m\u001b[0mpredict_generator\u001b[0m\u001b[1;33m(\u001b[0m\u001b[0mvalidation_generator\u001b[0m\u001b[1;33m)\u001b[0m\u001b[1;33m\u001b[0m\u001b[1;33m\u001b[0m\u001b[0m\n\u001b[0;32m      4\u001b[0m \u001b[0my_pred\u001b[0m \u001b[1;33m=\u001b[0m \u001b[0mnp\u001b[0m\u001b[1;33m.\u001b[0m\u001b[0margmax\u001b[0m\u001b[1;33m(\u001b[0m\u001b[0mY_pred\u001b[0m\u001b[1;33m,\u001b[0m \u001b[0maxis\u001b[0m\u001b[1;33m=\u001b[0m\u001b[1;36m1\u001b[0m\u001b[1;33m)\u001b[0m\u001b[1;33m\u001b[0m\u001b[1;33m\u001b[0m\u001b[0m\n\u001b[0;32m      5\u001b[0m \u001b[0mprint\u001b[0m\u001b[1;33m(\u001b[0m\u001b[1;34m'Confusion Matrix'\u001b[0m\u001b[1;33m)\u001b[0m\u001b[1;33m\u001b[0m\u001b[1;33m\u001b[0m\u001b[0m\n",
      "\u001b[1;31mModuleNotFoundError\u001b[0m: No module named 'sklearn'"
     ]
    }
   ],
   "source": [
    "import numpy as np\n",
    "from sklearn.metrics import classification_report, confusion_matrix\n",
    "Y_pred = model.predict_generator(validation_generator)\n",
    "y_pred = np.argmax(Y_pred, axis=1)\n",
    "print('Confusion Matrix')\n",
    "print(confusion_matrix(validation_generator.classes, y_pred))\n",
    "print('Classification Report')\n",
    "target_names = ['hammer', 'paper', 'scissor']\n",
    "print(classification_report(validation_generator.classes, y_pred, target_names=target_names))"
   ]
  },
  {
   "cell_type": "code",
   "execution_count": 9,
   "metadata": {},
   "outputs": [
    {
     "name": "stdout",
     "output_type": "stream",
     "text": [
      "[0.38284345467886344, 0.9256329113924051]\n"
     ]
    }
   ],
   "source": [
    "#model3 fucking_model3.h5 (100,100) drawcontour rotate\n",
    "scores3 = model.evaluate_generator(test_generator,60)\n",
    "print(scores3)"
   ]
  },
  {
   "cell_type": "code",
   "execution_count": null,
   "metadata": {},
   "outputs": [],
   "source": [
    "# ---------------------------------------------------------------------------------------------------"
   ]
  },
  {
   "cell_type": "code",
   "execution_count": 1,
   "metadata": {},
   "outputs": [
    {
     "name": "stderr",
     "output_type": "stream",
     "text": [
      "C:\\Users\\WIN10\\Anaconda3\\envs\\conda1\\lib\\site-packages\\h5py\\__init__.py:36: FutureWarning: Conversion of the second argument of issubdtype from `float` to `np.floating` is deprecated. In future, it will be treated as `np.float64 == np.dtype(float).type`.\n",
      "  from ._conv import register_converters as _register_converters\n",
      "Using TensorFlow backend.\n"
     ]
    }
   ],
   "source": [
    "from keras.models import Sequential\n",
    "from keras.layers import Conv2D, MaxPooling2D\n",
    "from keras.layers import Activation, Dropout, Flatten, Dense\n",
    "\n",
    "model = Sequential()\n",
    "model.add(Conv2D(128, (3, 3), input_shape=(100, 100, 1)))\n",
    "model.add(Activation('relu'))\n",
    "model.add(MaxPooling2D(pool_size=(2, 2)))\n",
    "\n",
    "model.add(Dropout(0.5))\n",
    "\n",
    "model.add(Conv2D(32, (3, 3)))\n",
    "model.add(Activation('relu'))\n",
    "model.add(MaxPooling2D(pool_size=(2, 2)))\n",
    "\n",
    "model.add(Flatten())\n",
    "\n",
    "model.add(Dense(6,activation='softmax'))"
   ]
  },
  {
   "cell_type": "code",
   "execution_count": 2,
   "metadata": {},
   "outputs": [],
   "source": [
    "from keras.optimizers import SGD\n",
    "sgd = SGD(lr=0.01, decay=1e-6, momentum=0.9, nesterov=True)\n",
    "model.compile(loss='categorical_crossentropy', optimizer=sgd,metrics=['accuracy'])"
   ]
  },
  {
   "cell_type": "code",
   "execution_count": 3,
   "metadata": {},
   "outputs": [
    {
     "name": "stdout",
     "output_type": "stream",
     "text": [
      "_________________________________________________________________\n",
      "Layer (type)                 Output Shape              Param #   \n",
      "=================================================================\n",
      "conv2d_1 (Conv2D)            (None, 98, 98, 128)       1280      \n",
      "_________________________________________________________________\n",
      "activation_1 (Activation)    (None, 98, 98, 128)       0         \n",
      "_________________________________________________________________\n",
      "max_pooling2d_1 (MaxPooling2 (None, 49, 49, 128)       0         \n",
      "_________________________________________________________________\n",
      "dropout_1 (Dropout)          (None, 49, 49, 128)       0         \n",
      "_________________________________________________________________\n",
      "conv2d_2 (Conv2D)            (None, 47, 47, 32)        36896     \n",
      "_________________________________________________________________\n",
      "activation_2 (Activation)    (None, 47, 47, 32)        0         \n",
      "_________________________________________________________________\n",
      "max_pooling2d_2 (MaxPooling2 (None, 23, 23, 32)        0         \n",
      "_________________________________________________________________\n",
      "flatten_1 (Flatten)          (None, 16928)             0         \n",
      "_________________________________________________________________\n",
      "dense_1 (Dense)              (None, 6)                 101574    \n",
      "=================================================================\n",
      "Total params: 139,750\n",
      "Trainable params: 139,750\n",
      "Non-trainable params: 0\n",
      "_________________________________________________________________\n"
     ]
    }
   ],
   "source": [
    "model.summary()"
   ]
  },
  {
   "cell_type": "code",
   "execution_count": 5,
   "metadata": {},
   "outputs": [],
   "source": [
    "model.load_weights('first_try.h5') "
   ]
  },
  {
   "cell_type": "code",
   "execution_count": 6,
   "metadata": {},
   "outputs": [],
   "source": [
    "model.save('first_try.h5')"
   ]
  },
  {
   "cell_type": "code",
   "execution_count": null,
   "metadata": {},
   "outputs": [],
   "source": []
  }
 ],
 "metadata": {
  "kernelspec": {
   "display_name": "Python 3",
   "language": "python",
   "name": "python3"
  },
  "language_info": {
   "codemirror_mode": {
    "name": "ipython",
    "version": 3
   },
   "file_extension": ".py",
   "mimetype": "text/x-python",
   "name": "python",
   "nbconvert_exporter": "python",
   "pygments_lexer": "ipython3",
   "version": "3.7.3"
  }
 },
 "nbformat": 4,
 "nbformat_minor": 2
}
